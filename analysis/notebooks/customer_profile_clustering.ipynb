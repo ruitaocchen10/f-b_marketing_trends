{
 "cells": [
  {
   "cell_type": "markdown",
   "metadata": {},
   "source": [
    "# Customer Profile Clustering Analysis\n",
    "\n",
    "This notebook performs K-Means clustering on customer data to identify distinct customer segments based on:\n",
    "- Demographics (income, age, number of kids)\n",
    "- Purchasing behavior (total spending, total purchases)\n",
    "- Engagement (recency)\n",
    "\n",
    "**Goal:** Identify actionable customer segments for targeted marketing campaigns."
   ]
  },
  {
   "cell_type": "markdown",
   "metadata": {},
   "source": [
    "## 1. Import Libraries"
   ]
  },
  {
   "cell_type": "code",
   "execution_count": null,
   "metadata": {},
   "outputs": [],
   "source": [
    "import pandas as pd \n",
    "import psycopg2 #SQL Database Adapter for Python\n",
    "from sklearn.cluster import KMeans\n",
    "from sklearn.preprocessing import StandardScaler\n",
    "import matplotlib.pyplot as plt\n",
    "import seaborn as sns\n",
    "\n",
    "# Set visualization style\n",
    "sns.set_style('whitegrid')\n",
    "plt.rcParams['figure.dpi'] = 100"
   ]
  },
  {
   "cell_type": "markdown",
   "metadata": {},
   "source": [
    "## 2. Load Data from Database\n",
    "\n",
    "Connect to PostgreSQL database and query customer features."
   ]
  },
  {
   "cell_type": "code",
   "execution_count": null,
   "metadata": {},
   "outputs": [],
   "source": [
    "connection = psycopg2.connect(\n",
    "    host=\"localhost\",\n",
    "    database=\"marketing_db\",\n",
    "    user=\"postgres\",\n",
    "    password=\"Rc3288.2016\"\n",
    ")\n",
    "\n",
    "query = '''\n",
    "SELECT\n",
    "    income,\n",
    "    (2015 - year_birth) AS age,\n",
    "    education,\n",
    "    marital_status,\n",
    "    (kidhome + teenhome) AS num_kids,\n",
    "    (mntwines + mntfruits + mntmeatproducts + mntfishproducts + \n",
    "     mntsweetproducts + mntgoldprods) AS total_spending,\n",
    "    (numdealspurchases + numwebpurchases + numcatalogpurchases + \n",
    "     numstorepurchases) AS total_purchases,\n",
    "    recency\n",
    "FROM marketing_data\n",
    "WHERE income IS NOT NULL\n",
    ";\n",
    "'''\n",
    "\n",
    "df = pd.read_sql(query, connection)\n",
    "connection.close()\n",
    "\n",
    "print(f\"Loaded {len(df)} customer records\")\n",
    "df.head()"
   ]
  },
  {
   "cell_type": "markdown",
   "metadata": {},
   "source": [
    "## 3. Data Exploration\n",
    "\n",
    "Quick look at the data distribution and summary statistics."
   ]
  },
  {
   "cell_type": "code",
   "execution_count": null,
   "metadata": {},
   "outputs": [],
   "source": [
    "df.info()"
   ]
  },
  {
   "cell_type": "code",
   "execution_count": null,
   "metadata": {},
   "outputs": [],
   "source": [
    "df.describe()"
   ]
  },
  {
   "cell_type": "markdown",
   "metadata": {},
   "source": [
    "## 4. Feature Preparation\n",
    "\n",
    "Select numerical features for clustering and handle missing values."
   ]
  },
  {
   "cell_type": "code",
   "execution_count": null,
   "metadata": {},
   "outputs": [],
   "source": [
    "features_for_clustering = df[['income', 'age', 'num_kids', 'total_spending', 'total_purchases', 'recency']].copy()\n",
    "features_for_clustering = features_for_clustering.dropna()\n",
    "\n",
    "print(f\"Features shape: {features_for_clustering.shape}\")\n",
    "print(f\"Missing values: {features_for_clustering.isnull().sum().sum()}\")"
   ]
  },
  {
   "cell_type": "markdown",
   "metadata": {},
   "source": [
    "## 5. Feature Scaling\n",
    "\n",
    "Standardize features to have mean=0 and std=1 (important for K-Means as it uses distance metrics)."
   ]
  },
  {
   "cell_type": "code",
   "execution_count": null,
   "metadata": {},
   "outputs": [],
   "source": [
    "scaler = StandardScaler()\n",
    "scaled_features = scaler.fit_transform(features_for_clustering)\n",
    "\n",
    "print(\"Features scaled successfully\")\n",
    "print(f\"Scaled features shape: {scaled_features.shape}\")"
   ]
  },
  {
   "cell_type": "markdown",
   "metadata": {},
   "source": [
    "## 6. Elbow Method - Finding Optimal K\n",
    "\n",
    "Test different numbers of clusters to find the optimal value using the elbow method."
   ]
  },
  {
   "cell_type": "code",
   "execution_count": null,
   "metadata": {},
   "outputs": [],
   "source": [
    "inertias = []\n",
    "K_range = range(2, 11)\n",
    "\n",
    "for k in K_range:\n",
    "    kmeans = KMeans(n_clusters=k, random_state=42)\n",
    "    kmeans.fit(scaled_features)\n",
    "    inertias.append(kmeans.inertia_)\n",
    "\n",
    "plt.figure(figsize=(10,6))\n",
    "plt.plot(K_range, inertias, 'bo-')\n",
    "plt.xlabel('Number of Clusters')\n",
    "plt.ylabel('Inertia')\n",
    "plt.title('Elbow Method - Finding Optimal Clusters')\n",
    "plt.grid(True)\n",
    "plt.show()"
   ]
  },
  {
   "cell_type": "markdown",
   "metadata": {},
   "source": [
    "## 7. Fit K-Means Model\n",
    "\n",
    "Based on the elbow plot, fit the model with the optimal number of clusters."
   ]
  },
  {
   "cell_type": "code",
   "execution_count": null,
   "metadata": {},
   "outputs": [],
   "source": [
    "optimal_k = 4\n",
    "kmeans = KMeans(n_clusters=optimal_k, random_state=42)\n",
    "df['cluster'] = kmeans.fit_predict(scaled_features)\n",
    "\n",
    "print(f\"Model fitted with {optimal_k} clusters\")\n",
    "print(f\"\\nCluster distribution:\")\n",
    "print(df['cluster'].value_counts().sort_index())"
   ]
  },
  {
   "cell_type": "markdown",
   "metadata": {},
   "source": [
    "## 8. Cluster Profiles\n",
    "\n",
    "Analyze the characteristics of each customer segment."
   ]
  },
  {
   "cell_type": "code",
   "execution_count": null,
   "metadata": {},
   "outputs": [],
   "source": [
    "cluster_profiles = df.groupby('cluster').agg({\n",
    "    'income': 'mean',\n",
    "    'age': 'mean',\n",
    "    'num_kids': 'mean',\n",
    "    'total_spending': 'mean',\n",
    "    'total_purchases': 'mean',\n",
    "    'recency': 'mean',\n",
    "    'education': lambda x: x.mode()[0] if not x.mode().empty else 'Unknown',\n",
    "    'marital_status': lambda x: x.mode()[0] if not x.mode().empty else 'Unknown'\n",
    "}).round(2)\n",
    "\n",
    "cluster_profiles['count'] = df.groupby('cluster').size()\n",
    "\n",
    "print(\"\\n=== CUSTOMER SEGMENTS ===\\n\")\n",
    "cluster_profiles"
   ]
  },
  {
   "cell_type": "markdown",
   "metadata": {},
   "source": [
    "## 9. Detailed Cluster Analysis\n",
    "\n",
    "Print detailed statistics for each cluster."
   ]
  },
  {
   "cell_type": "code",
   "execution_count": null,
   "metadata": {},
   "outputs": [],
   "source": [
    "for cluster_id in range(optimal_k):\n",
    "    cluster_data = df[df['cluster'] == cluster_id]\n",
    "    \n",
    "    print(f\"\\n{'='*50}\")\n",
    "    print(f\"CLUSTER {cluster_id}\")\n",
    "    print(f\"{'='*50}\")\n",
    "    print(f\"Size: {len(cluster_data)} customers ({len(cluster_data)/len(df)*100:.1f}%)\")\n",
    "    print(f\"Average Income: ${cluster_data['income'].mean():,.0f}\")\n",
    "    print(f\"Average Age: {cluster_data['age'].mean():.0f}\")\n",
    "    print(f\"Average Kids: {cluster_data['num_kids'].mean():.1f}\")\n",
    "    print(f\"Average Spending: ${cluster_data['total_spending'].mean():,.0f}\")\n",
    "    print(f\"Average Purchases: {cluster_data['total_purchases'].mean():.1f}\")\n",
    "    print(f\"Average Recency: {cluster_data['recency'].mean():.0f} days\")\n",
    "    print(f\"Most Common Education: {cluster_data['education'].mode()[0]}\")\n",
    "    print(f\"Most Common Marital Status: {cluster_data['marital_status'].mode()[0]}\")"
   ]
  },
  {
   "cell_type": "markdown",
   "metadata": {},
   "source": [
    "## 10. Visualize Customer Segments\n",
    "\n",
    "Plot income vs. spending colored by cluster assignment."
   ]
  },
  {
   "cell_type": "code",
   "execution_count": null,
   "metadata": {},
   "outputs": [],
   "source": [
    "plt.figure(figsize=(12, 8))\n",
    "scatter = plt.scatter(df['income'], df['total_spending'], \n",
    "                     c=df['cluster'], cmap='viridis', alpha=0.6, s=50)\n",
    "plt.xlabel('Income ($)', fontsize=12)\n",
    "plt.ylabel('Total Spending ($)', fontsize=12)\n",
    "plt.title('Customer Segments: Income vs. Total Spending', fontsize=14, fontweight='bold')\n",
    "plt.colorbar(scatter, label='Cluster')\n",
    "plt.grid(True, alpha=0.3)\n",
    "plt.show()"
   ]
  },
  {
   "cell_type": "markdown",
   "metadata": {},
   "source": [
    "## 11. Additional Visualizations\n",
    "\n",
    "Create more plots to understand cluster characteristics."
   ]
  },
  {
   "cell_type": "code",
   "execution_count": null,
   "metadata": {},
   "outputs": [],
   "source": [
    "# Box plots for key metrics by cluster\n",
    "fig, axes = plt.subplots(2, 3, figsize=(15, 10))\n",
    "fig.suptitle('Cluster Characteristics Comparison', fontsize=16, fontweight='bold')\n",
    "\n",
    "metrics = ['income', 'age', 'num_kids', 'total_spending', 'total_purchases', 'recency']\n",
    "titles = ['Income', 'Age', 'Number of Kids', 'Total Spending', 'Total Purchases', 'Recency (days)']\n",
    "\n",
    "for idx, (metric, title) in enumerate(zip(metrics, titles)):\n",
    "    row = idx // 3\n",
    "    col = idx % 3\n",
    "    df.boxplot(column=metric, by='cluster', ax=axes[row, col])\n",
    "    axes[row, col].set_title(title)\n",
    "    axes[row, col].set_xlabel('Cluster')\n",
    "    axes[row, col].set_ylabel(title)\n",
    "\n",
    "plt.tight_layout()\n",
    "plt.show()"
   ]
  },
  {
   "cell_type": "markdown",
   "metadata": {},
   "source": [
    "## 12. Summary & Recommendations\n",
    "\n",
    "**Key Findings:**\n",
    "- The analysis identified 4 distinct customer segments\n",
    "- Each segment has unique demographic and behavioral characteristics\n",
    "\n",
    "**Next Steps:**\n",
    "1. Name each cluster based on its characteristics (e.g., \"High-Value Shoppers\", \"Budget-Conscious Families\")\n",
    "2. Develop targeted marketing strategies for each segment\n",
    "3. Track segment migration over time\n",
    "4. A/B test different approaches for each segment"
   ]
  }
 ],
 "metadata": {
  "kernelspec": {
   "display_name": "Python 3",
   "language": "python",
   "name": "python3"
  },
  "language_info": {
   "codemirror_mode": {
    "name": "ipython",
    "version": 3
   },
   "file_extension": ".py",
   "mimetype": "text/x-python",
   "name": "python",
   "nbconvert_exporter": "python",
   "pygments_lexer": "ipython3",
   "version": "3.8.0"
  }
 },
 "nbformat": 4,
 "nbformat_minor": 4
}
